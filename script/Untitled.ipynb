{
 "cells": [
  {
   "cell_type": "code",
   "execution_count": 1,
   "id": "52bb7783-16b6-4644-9227-9092dbb8aea6",
   "metadata": {},
   "outputs": [],
   "source": [
    "import logging\n",
    "import os\n",
    "from dotenv import load_dotenv\n",
    "from pyspark import SparkContext\n",
    "from pyspark.sql import SparkSession\n",
    "\n",
    "load_dotenv(\".env\", override=True)\n",
    "\n",
    "MINIO_ENDPOINT=os.getenv(\"MINIO_ENDPOINT\")\n",
    "MINIO_ACCESS_KEY=os.getenv(\"MINIO_ACCESS_KEY\")\n",
    "MINIO_SECRET_KEY=os.getenv(\"MINIO_SECRET_KEY\")"
   ]
  },
  {
   "cell_type": "code",
   "execution_count": 2,
   "id": "54dbb929-f738-4c1f-a5f8-83e340320d97",
   "metadata": {},
   "outputs": [],
   "source": [
    "spark = SparkSession.builder \\\n",
    "    .appName(\"MinIO Integration\") \\\n",
    "    .config(\"spark.hadoop.fs.s3a.endpoint\", MINIO_ENDPOINT) \\\n",
    "    .config(\"spark.hadoop.fs.s3a.access.key\", MINIO_ACCESS_KEY) \\\n",
    "    .config(\"spark.hadoop.fs.s3a.secret.key\", MINIO_SECRET_KEY) \\\n",
    "    .config(\"spark.hadoop.fs.s3a.path.style.access\", \"true\") \\\n",
    "    .config(\"spark.hadoop.fs.s3a.impl\", \"org.apache.hadoop.fs.s3a.S3AFileSystem\") \\\n",
    "    .config(\"spark.hadoop.fs.s3a.connection.ssl.enabled\", \"false\") \\\n",
    "    .getOrCreate()"
   ]
  },
  {
   "cell_type": "code",
   "execution_count": 3,
   "id": "33763e38-6df1-48fa-b2c2-29eeb46355e3",
   "metadata": {},
   "outputs": [
    {
     "data": {
      "text/html": [
       "\n",
       "            <div>\n",
       "                <p><b>SparkSession - in-memory</b></p>\n",
       "                \n",
       "        <div>\n",
       "            <p><b>SparkContext</b></p>\n",
       "\n",
       "            <p><a href=\"http://pyspark:4040\">Spark UI</a></p>\n",
       "\n",
       "            <dl>\n",
       "              <dt>Version</dt>\n",
       "                <dd><code>v3.5.0</code></dd>\n",
       "              <dt>Master</dt>\n",
       "                <dd><code>local[*]</code></dd>\n",
       "              <dt>AppName</dt>\n",
       "                <dd><code>MinIO Integration</code></dd>\n",
       "            </dl>\n",
       "        </div>\n",
       "        \n",
       "            </div>\n",
       "        "
      ],
      "text/plain": [
       "<pyspark.sql.session.SparkSession at 0x7fec4cc17510>"
      ]
     },
     "execution_count": 3,
     "metadata": {},
     "output_type": "execute_result"
    }
   ],
   "source": [
    "spark"
   ]
  },
  {
   "cell_type": "code",
   "execution_count": 4,
   "id": "2a877117-4d14-4ad9-9315-1d13507e63b3",
   "metadata": {},
   "outputs": [],
   "source": [
    "# try:\n",
    "#     # Cek apakah file ada di MinIO\n",
    "#     files = spark.read.format(\"csv\").option(\"header\", \"true\").load(\"s3a://error-file/\").head(10)\n",
    "#     print(\"File ditemukan dan terhubung ke MinIO\")\n",
    "# except Exception as e:\n",
    "#     print(f\"Terjadi kesalahan: {e}\")"
   ]
  },
  {
   "cell_type": "code",
   "execution_count": 5,
   "id": "c9053721-e64d-47dc-a049-57070afae2c5",
   "metadata": {},
   "outputs": [
    {
     "name": "stdout",
     "output_type": "stream",
     "text": [
      "-RECORD 0------------------------------\n",
      " suburb         | Abbotsford           \n",
      " address        | 85 Turner St         \n",
      " rooms          | 2                    \n",
      " type           | h                    \n",
      " price          | 1480000.0            \n",
      " method         | S                    \n",
      " seller_g       | Biggin               \n",
      " date           | 3/12/2016            \n",
      " distance       | 2.5                  \n",
      " post_code      | 3067.0               \n",
      " bedroom        | 2.0                  \n",
      " bathroom       | 1.0                  \n",
      " car            | 1.0                  \n",
      " land_size      | 202.0                \n",
      " building_area  | NULL                 \n",
      " year_built     | NULL                 \n",
      " council_area   | Yarra                \n",
      " latitude       | -37.7996             \n",
      " longitude      | 144.9984             \n",
      " region_name    | Northern Metropol... \n",
      " property_count | 4019.0               \n",
      "-RECORD 1------------------------------\n",
      " suburb         | Abbotsford           \n",
      " address        | 25 Bloomburg St      \n",
      " rooms          | 2                    \n",
      " type           | h                    \n",
      " price          | 1035000.0            \n",
      " method         | S                    \n",
      " seller_g       | Biggin               \n",
      " date           | 4/02/2016            \n",
      " distance       | 2.5                  \n",
      " post_code      | 3067.0               \n",
      " bedroom        | 2.0                  \n",
      " bathroom       | 1.0                  \n",
      " car            | 0.0                  \n",
      " land_size      | 156.0                \n",
      " building_area  | 79.0                 \n",
      " year_built     | 1900.0               \n",
      " council_area   | Yarra                \n",
      " latitude       | -37.8079             \n",
      " longitude      | 144.9934             \n",
      " region_name    | Northern Metropol... \n",
      " property_count | 4019.0               \n",
      "only showing top 2 rows\n",
      "\n"
     ]
    }
   ],
   "source": [
    "try:\n",
    "    df = spark.read.csv(\"s3a://error-file/melbourne_housing.csv\", header=True)\n",
    "    df.show(2, vertical=True)\n",
    "except Exception as e:\n",
    "    print(f\"Error reading file: {e}\")"
   ]
  },
  {
   "cell_type": "code",
   "execution_count": null,
   "id": "399ef31b-6ce7-45e0-af4c-08422e46d827",
   "metadata": {},
   "outputs": [],
   "source": []
  }
 ],
 "metadata": {
  "kernelspec": {
   "display_name": "Python 3 (ipykernel)",
   "language": "python",
   "name": "python3"
  },
  "language_info": {
   "codemirror_mode": {
    "name": "ipython",
    "version": 3
   },
   "file_extension": ".py",
   "mimetype": "text/x-python",
   "name": "python",
   "nbconvert_exporter": "python",
   "pygments_lexer": "ipython3",
   "version": "3.11.6"
  }
 },
 "nbformat": 4,
 "nbformat_minor": 5
}
